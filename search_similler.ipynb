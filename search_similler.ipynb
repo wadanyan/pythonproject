{
 "cells": [
  {
   "cell_type": "code",
   "execution_count": null,
   "id": "fb117ae0",
   "metadata": {},
   "outputs": [],
   "source": [
    "pip install rapidfuzz"
   ]
  },
  {
   "cell_type": "code",
   "execution_count": null,
   "id": "f61b63b0",
   "metadata": {
    "scrolled": true
   },
   "outputs": [],
   "source": [
    "pip install pandas"
   ]
  },
  {
   "cell_type": "code",
   "execution_count": null,
   "id": "2ece67f2",
   "metadata": {},
   "outputs": [],
   "source": [
    "import glob\n",
    "\n",
    "search_filenames = glob.glob(f\"from_github_file_clear_proper/\" + \"*\")      \n",
    "\n",
    "candi_templete = glob.glob(f\"output_templete/\" + \"*\")"
   ]
  },
  {
   "cell_type": "code",
   "execution_count": null,
   "id": "141b3a99",
   "metadata": {
    "scrolled": true
   },
   "outputs": [],
   "source": [
    "def set_name_and_contents(search_file):\n",
    "\n",
    "    contents = []\n",
    "    name = []\n",
    "    for search_filename in search_file:\n",
    "\n",
    "        name.append(search_filename.split(\"/\")[1].split(\".\")[0])\n",
    "        one_file_lines = []\n",
    "        with open(search_filename, 'r') as seached_file:\n",
    "            lines = seached_file.readlines()\n",
    "        for line in lines:\n",
    "            one_file_lines.append(line.split(\"=\")[0] + \"=\")\n",
    "        contents.append(\",\".join(one_file_lines))\n",
    "    \n",
    "    return contents,name\n",
    "\n",
    "queries = []\n",
    "index_list = []\n",
    "choices = []\n",
    "colums_list = []\n",
    "    \n",
    "queries,index_list = set_name_and_contents(search_filenames)\n",
    "choices,colums_list = set_name_and_contents(candi_templete)"
   ]
  },
  {
   "cell_type": "code",
   "execution_count": null,
   "id": "d8daf05b",
   "metadata": {
    "scrolled": true
   },
   "outputs": [],
   "source": [
    "from rapidfuzz.process import cdist\n",
    "from rapidfuzz.distance import JaroWinkler\n",
    "import numpy as np\n",
    "import pandas as pd\n",
    "\n",
    "\"\"\"queries = pd.Series(['cat', 'dog', 'bear'])\n",
    "choices = pd.Series(['cut', 'dot', 'beer'])\n",
    "\n",
    "index_list = ['cat', 'dog', 'bear']\n",
    "colums_list = ['cut', 'dot', 'beer']\"\"\"\n",
    "\n",
    "#score = cdist(queries, choices)\n",
    "score = cdist(queries, choices, scorer=JaroWinkler.normalized_distance)\n",
    "print(pd.DataFrame(score, index=index_list, columns=colums_list))\n"
   ]
  },
  {
   "cell_type": "code",
   "execution_count": null,
   "id": "f3f10652",
   "metadata": {},
   "outputs": [],
   "source": [
    "pd.set_option('display.max_rows', None)\n",
    "pd.set_option('display.max_columns', None)\n",
    "print(pd.DataFrame(score, index=index_list, columns=colums_list))"
   ]
  },
  {
   "cell_type": "code",
   "execution_count": null,
   "id": "510c1534",
   "metadata": {},
   "outputs": [],
   "source": [
    "df = pd.DataFrame(score, index=index_list, columns=colums_list)\n",
    "df.describe()"
   ]
  }
 ],
 "metadata": {
  "kernelspec": {
   "display_name": "Python 3 (ipykernel)",
   "language": "python",
   "name": "python3"
  },
  "language_info": {
   "codemirror_mode": {
    "name": "ipython",
    "version": 3
   },
   "file_extension": ".py",
   "mimetype": "text/x-python",
   "name": "python",
   "nbconvert_exporter": "python",
   "pygments_lexer": "ipython3",
   "version": "3.10.12"
  }
 },
 "nbformat": 4,
 "nbformat_minor": 5
}
